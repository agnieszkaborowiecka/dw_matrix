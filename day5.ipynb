{
  "nbformat": 4,
  "nbformat_minor": 0,
  "metadata": {
    "colab": {
      "name": "day5.ipynb",
      "provenance": [],
      "collapsed_sections": [],
      "mount_file_id": "10ZRdnljROo5AcmwT0hbTDCFF184_CQ6N",
      "authorship_tag": "ABX9TyMCZn8Rqi0AJB6vWaSDuwSM",
      "include_colab_link": true
    },
    "kernelspec": {
      "name": "python3",
      "display_name": "Python 3"
    },
    "widgets": {
      "application/vnd.jupyter.widget-state+json": {
        "092e94418a7440d1a1c30a39b423beed": {
          "model_module": "@jupyter-widgets/controls",
          "model_name": "HBoxModel",
          "state": {
            "_view_name": "HBoxView",
            "_dom_classes": [],
            "_model_name": "HBoxModel",
            "_view_module": "@jupyter-widgets/controls",
            "_model_module_version": "1.5.0",
            "_view_count": null,
            "_view_module_version": "1.5.0",
            "box_style": "",
            "layout": "IPY_MODEL_fbb242287ff8421d8cc15ea20645f0c8",
            "_model_module": "@jupyter-widgets/controls",
            "children": [
              "IPY_MODEL_7b307b15f0e14657a770215186f917ea",
              "IPY_MODEL_09daef9ee1564a4991e68d0978354b88"
            ]
          }
        },
        "fbb242287ff8421d8cc15ea20645f0c8": {
          "model_module": "@jupyter-widgets/base",
          "model_name": "LayoutModel",
          "state": {
            "_view_name": "LayoutView",
            "grid_template_rows": null,
            "right": null,
            "justify_content": null,
            "_view_module": "@jupyter-widgets/base",
            "overflow": null,
            "_model_module_version": "1.2.0",
            "_view_count": null,
            "flex_flow": null,
            "width": null,
            "min_width": null,
            "border": null,
            "align_items": null,
            "bottom": null,
            "_model_module": "@jupyter-widgets/base",
            "top": null,
            "grid_column": null,
            "overflow_y": null,
            "overflow_x": null,
            "grid_auto_flow": null,
            "grid_area": null,
            "grid_template_columns": null,
            "flex": null,
            "_model_name": "LayoutModel",
            "justify_items": null,
            "grid_row": null,
            "max_height": null,
            "align_content": null,
            "visibility": null,
            "align_self": null,
            "height": null,
            "min_height": null,
            "padding": null,
            "grid_auto_rows": null,
            "grid_gap": null,
            "max_width": null,
            "order": null,
            "_view_module_version": "1.2.0",
            "grid_template_areas": null,
            "object_position": null,
            "object_fit": null,
            "grid_auto_columns": null,
            "margin": null,
            "display": null,
            "left": null
          }
        },
        "7b307b15f0e14657a770215186f917ea": {
          "model_module": "@jupyter-widgets/controls",
          "model_name": "IntProgressModel",
          "state": {
            "_view_name": "ProgressView",
            "style": "IPY_MODEL_77537ca7eedf485ab6d9f3b784fd6098",
            "_dom_classes": [],
            "description": "",
            "_model_name": "IntProgressModel",
            "bar_style": "success",
            "max": 476,
            "_view_module": "@jupyter-widgets/controls",
            "_model_module_version": "1.5.0",
            "value": 476,
            "_view_count": null,
            "_view_module_version": "1.5.0",
            "orientation": "horizontal",
            "min": 0,
            "description_tooltip": null,
            "_model_module": "@jupyter-widgets/controls",
            "layout": "IPY_MODEL_cc8b62d8315848e9b14b095e3a3aeb97"
          }
        },
        "09daef9ee1564a4991e68d0978354b88": {
          "model_module": "@jupyter-widgets/controls",
          "model_name": "HTMLModel",
          "state": {
            "_view_name": "HTMLView",
            "style": "IPY_MODEL_b790119142bb4600a1ab356ed03fb0ea",
            "_dom_classes": [],
            "description": "",
            "_model_name": "HTMLModel",
            "placeholder": "​",
            "_view_module": "@jupyter-widgets/controls",
            "_model_module_version": "1.5.0",
            "value": "100% 476/476 [00:03&lt;00:00, 125.99it/s]",
            "_view_count": null,
            "_view_module_version": "1.5.0",
            "description_tooltip": null,
            "_model_module": "@jupyter-widgets/controls",
            "layout": "IPY_MODEL_f2890d6f713f45c5a40bea34c8b2b84d"
          }
        },
        "77537ca7eedf485ab6d9f3b784fd6098": {
          "model_module": "@jupyter-widgets/controls",
          "model_name": "ProgressStyleModel",
          "state": {
            "_view_name": "StyleView",
            "_model_name": "ProgressStyleModel",
            "description_width": "",
            "_view_module": "@jupyter-widgets/base",
            "_model_module_version": "1.5.0",
            "_view_count": null,
            "_view_module_version": "1.2.0",
            "bar_color": null,
            "_model_module": "@jupyter-widgets/controls"
          }
        },
        "cc8b62d8315848e9b14b095e3a3aeb97": {
          "model_module": "@jupyter-widgets/base",
          "model_name": "LayoutModel",
          "state": {
            "_view_name": "LayoutView",
            "grid_template_rows": null,
            "right": null,
            "justify_content": null,
            "_view_module": "@jupyter-widgets/base",
            "overflow": null,
            "_model_module_version": "1.2.0",
            "_view_count": null,
            "flex_flow": null,
            "width": null,
            "min_width": null,
            "border": null,
            "align_items": null,
            "bottom": null,
            "_model_module": "@jupyter-widgets/base",
            "top": null,
            "grid_column": null,
            "overflow_y": null,
            "overflow_x": null,
            "grid_auto_flow": null,
            "grid_area": null,
            "grid_template_columns": null,
            "flex": null,
            "_model_name": "LayoutModel",
            "justify_items": null,
            "grid_row": null,
            "max_height": null,
            "align_content": null,
            "visibility": null,
            "align_self": null,
            "height": null,
            "min_height": null,
            "padding": null,
            "grid_auto_rows": null,
            "grid_gap": null,
            "max_width": null,
            "order": null,
            "_view_module_version": "1.2.0",
            "grid_template_areas": null,
            "object_position": null,
            "object_fit": null,
            "grid_auto_columns": null,
            "margin": null,
            "display": null,
            "left": null
          }
        },
        "b790119142bb4600a1ab356ed03fb0ea": {
          "model_module": "@jupyter-widgets/controls",
          "model_name": "DescriptionStyleModel",
          "state": {
            "_view_name": "StyleView",
            "_model_name": "DescriptionStyleModel",
            "description_width": "",
            "_view_module": "@jupyter-widgets/base",
            "_model_module_version": "1.5.0",
            "_view_count": null,
            "_view_module_version": "1.2.0",
            "_model_module": "@jupyter-widgets/controls"
          }
        },
        "f2890d6f713f45c5a40bea34c8b2b84d": {
          "model_module": "@jupyter-widgets/base",
          "model_name": "LayoutModel",
          "state": {
            "_view_name": "LayoutView",
            "grid_template_rows": null,
            "right": null,
            "justify_content": null,
            "_view_module": "@jupyter-widgets/base",
            "overflow": null,
            "_model_module_version": "1.2.0",
            "_view_count": null,
            "flex_flow": null,
            "width": null,
            "min_width": null,
            "border": null,
            "align_items": null,
            "bottom": null,
            "_model_module": "@jupyter-widgets/base",
            "top": null,
            "grid_column": null,
            "overflow_y": null,
            "overflow_x": null,
            "grid_auto_flow": null,
            "grid_area": null,
            "grid_template_columns": null,
            "flex": null,
            "_model_name": "LayoutModel",
            "justify_items": null,
            "grid_row": null,
            "max_height": null,
            "align_content": null,
            "visibility": null,
            "align_self": null,
            "height": null,
            "min_height": null,
            "padding": null,
            "grid_auto_rows": null,
            "grid_gap": null,
            "max_width": null,
            "order": null,
            "_view_module_version": "1.2.0",
            "grid_template_areas": null,
            "object_position": null,
            "object_fit": null,
            "grid_auto_columns": null,
            "margin": null,
            "display": null,
            "left": null
          }
        }
      }
    }
  },
  "cells": [
    {
      "cell_type": "markdown",
      "metadata": {
        "id": "view-in-github",
        "colab_type": "text"
      },
      "source": [
        "<a href=\"https://colab.research.google.com/github/agnieszkaborowiecka/dw_matrix/blob/master/day5.ipynb\" target=\"_parent\"><img src=\"https://colab.research.google.com/assets/colab-badge.svg\" alt=\"Open In Colab\"/></a>"
      ]
    },
    {
      "cell_type": "code",
      "metadata": {
        "id": "FNHJ5vWNC0eH",
        "colab_type": "code",
        "outputId": "4a78ac86-2a02-4d8c-b2d0-f54b20d1117e",
        "colab": {
          "base_uri": "https://localhost:8080/",
          "height": 224
        }
      },
      "source": [
        "!pip install eli5"
      ],
      "execution_count": 0,
      "outputs": [
        {
          "output_type": "stream",
          "text": [
            "Requirement already satisfied: eli5 in /usr/local/lib/python3.6/dist-packages (0.10.1)\n",
            "Requirement already satisfied: tabulate>=0.7.7 in /usr/local/lib/python3.6/dist-packages (from eli5) (0.8.6)\n",
            "Requirement already satisfied: numpy>=1.9.0 in /usr/local/lib/python3.6/dist-packages (from eli5) (1.17.5)\n",
            "Requirement already satisfied: jinja2 in /usr/local/lib/python3.6/dist-packages (from eli5) (2.11.1)\n",
            "Requirement already satisfied: graphviz in /usr/local/lib/python3.6/dist-packages (from eli5) (0.10.1)\n",
            "Requirement already satisfied: scikit-learn>=0.18 in /usr/local/lib/python3.6/dist-packages (from eli5) (0.22.1)\n",
            "Requirement already satisfied: scipy in /usr/local/lib/python3.6/dist-packages (from eli5) (1.4.1)\n",
            "Requirement already satisfied: six in /usr/local/lib/python3.6/dist-packages (from eli5) (1.12.0)\n",
            "Requirement already satisfied: attrs>16.0.0 in /usr/local/lib/python3.6/dist-packages (from eli5) (19.3.0)\n",
            "Requirement already satisfied: MarkupSafe>=0.23 in /usr/local/lib/python3.6/dist-packages (from jinja2->eli5) (1.1.1)\n",
            "Requirement already satisfied: joblib>=0.11 in /usr/local/lib/python3.6/dist-packages (from scikit-learn>=0.18->eli5) (0.14.1)\n"
          ],
          "name": "stdout"
        }
      ]
    },
    {
      "cell_type": "code",
      "metadata": {
        "id": "wKbkVmRGDYpn",
        "colab_type": "code",
        "colab": {}
      },
      "source": [
        "import pandas as pd\n",
        "import numpy as np\n",
        "from sklearn.tree import DecisionTreeRegressor\n",
        "from sklearn.ensemble import RandomForestRegressor\n",
        "\n",
        "from sklearn.metrics import mean_absolute_error\n",
        "from sklearn.model_selection import cross_val_score\n",
        "\n",
        "import eli5\n",
        "from eli5.sklearn import PermutationImportance\n",
        "\n",
        "from ast import literal_eval\n",
        "from tqdm import tqdm_notebook"
      ],
      "execution_count": 0,
      "outputs": []
    },
    {
      "cell_type": "code",
      "metadata": {
        "id": "bdth4s-AE9-C",
        "colab_type": "code",
        "outputId": "9181f900-be2a-4bdb-8682-d6ad6ad63741",
        "colab": {
          "base_uri": "https://localhost:8080/",
          "height": 34
        }
      },
      "source": [
        "cd \"/content/drive/My Drive/Colab Notebooks/dw_matrix\""
      ],
      "execution_count": 120,
      "outputs": [
        {
          "output_type": "stream",
          "text": [
            "/content/drive/My Drive/Colab Notebooks/dw_matrix\n"
          ],
          "name": "stdout"
        }
      ]
    },
    {
      "cell_type": "code",
      "metadata": {
        "id": "RcEngCluFeMo",
        "colab_type": "code",
        "outputId": "e829d5bb-eef1-4160-d360-a29eb90c9e89",
        "colab": {
          "base_uri": "https://localhost:8080/",
          "height": 34
        }
      },
      "source": [
        "ls data"
      ],
      "execution_count": 121,
      "outputs": [
        {
          "output_type": "stream",
          "text": [
            "men_shoe.csv  men_shoes.csv\n"
          ],
          "name": "stdout"
        }
      ]
    },
    {
      "cell_type": "code",
      "metadata": {
        "id": "3ElEREQXFgs4",
        "colab_type": "code",
        "colab": {}
      },
      "source": [
        "df = pd.read_csv ('data/men_shoes.csv', low_memory=False)\n"
      ],
      "execution_count": 0,
      "outputs": []
    },
    {
      "cell_type": "code",
      "metadata": {
        "id": "FB-6BJ4KIMJB",
        "colab_type": "code",
        "outputId": "1ef6a8ea-ac58-4b8f-ac91-d73b6224e948",
        "colab": {
          "base_uri": "https://localhost:8080/",
          "height": 34
        }
      },
      "source": [
        "def run_model(feats, model = DecisionTreeRegressor(max_depth=5)):\n",
        "  x = df[ feats ].values\n",
        "  y = df['prices_amountmin'].values\n",
        "\n",
        "  scores = cross_val_score(model, x, y, scoring='neg_mean_absolute_error')\n",
        "  return np.mean(scores), np.std(scores)\n",
        "\n",
        "df['brand_cat'] = df['brand'].map(lambda x: str(x).lower()).factorize()[0]\n",
        "run_model(['brand_cat'])"
      ],
      "execution_count": 0,
      "outputs": [
        {
          "output_type": "execute_result",
          "data": {
            "text/plain": [
              "(-58.133398968282776, 4.206122611474276)"
            ]
          },
          "metadata": {
            "tags": []
          },
          "execution_count": 11
        }
      ]
    },
    {
      "cell_type": "code",
      "metadata": {
        "id": "nBdbWgKjKWAN",
        "colab_type": "code",
        "outputId": "2a980f9b-b6c8-4454-efa5-8a3cd7dc03e2",
        "colab": {
          "base_uri": "https://localhost:8080/",
          "height": 34
        }
      },
      "source": [
        "model = RandomForestRegressor(max_depth=5, n_estimators=100, random_state=0)\n",
        "run_model(['brand_cat'], model)"
      ],
      "execution_count": 0,
      "outputs": [
        {
          "output_type": "execute_result",
          "data": {
            "text/plain": [
              "(-57.31783843165656, 4.181246596160967)"
            ]
          },
          "metadata": {
            "tags": []
          },
          "execution_count": 12
        }
      ]
    },
    {
      "cell_type": "code",
      "metadata": {
        "id": "S-z-5DB-LmQX",
        "colab_type": "code",
        "outputId": "e85a657c-2c8d-4482-82ff-24677a49262b",
        "colab": {
          "base_uri": "https://localhost:8080/",
          "height": 139
        }
      },
      "source": [
        "df.features.head().values"
      ],
      "execution_count": 0,
      "outputs": [
        {
          "output_type": "execute_result",
          "data": {
            "text/plain": [
              "array(['[{\"key\":\"Gender\",\"value\":[\"Men\"]},{\"key\":\"Shoe Size\",\"value\":[\"M\"]},{\"key\":\"Shoe Category\",\"value\":[\"Men\\'s Shoes\"]},{\"key\":\"Color\",\"value\":[\"Multicolor\"]},{\"key\":\"Manufacturer Part Number\",\"value\":[\"8190-W-NAVY-7.5\"]},{\"key\":\"Brand\",\"value\":[\"Josmo\"]}]',\n",
              "       '[{\"key\":\"Gender\",\"value\":[\"Men\"]},{\"key\":\"Shoe Size\",\"value\":[\"M\"]},{\"key\":\"Shoe Category\",\"value\":[\"Men\\'s Shoes\"]},{\"key\":\"Color\",\"value\":[\"Multicolor\"]},{\"key\":\"Manufacturer Part Number\",\"value\":[\"8190-W-NAVY-7.5\"]},{\"key\":\"Brand\",\"value\":[\"Josmo\"]}]',\n",
              "       '[{\"key\":\"Gender\",\"value\":[\"Men\"]},{\"key\":\"Color\",\"value\":[\"Black\"]},{\"key\":\"Shipping Weight (in pounds)\",\"value\":[\"0.45\"]},{\"key\":\"Condition\",\"value\":[\"New\"]},{\"key\":\"Brand\",\"value\":[\"SERVUS BY HONEYWELL\"]},{\"key\":\"manufacturer_part_number\",\"value\":[\"ZSR101BLMLG\"]}]',\n",
              "       '[{\"key\":\"Gender\",\"value\":[\"Men\"]},{\"key\":\"Color\",\"value\":[\"Black\"]},{\"key\":\"Shipping Weight (in pounds)\",\"value\":[\"0.45\"]},{\"key\":\"Condition\",\"value\":[\"New\"]},{\"key\":\"Brand\",\"value\":[\"SERVUS BY HONEYWELL\"]},{\"key\":\"manufacturer_part_number\",\"value\":[\"ZSR101BLMLG\"]}]',\n",
              "       '[{\"key\":\"Gender\",\"value\":[\"Men\"]},{\"key\":\"Color\",\"value\":[\"Black\"]},{\"key\":\"Shipping Weight (in pounds)\",\"value\":[\"0.45\"]},{\"key\":\"Condition\",\"value\":[\"New\"]},{\"key\":\"Brand\",\"value\":[\"SERVUS BY HONEYWELL\"]},{\"key\":\"manufacturer_part_number\",\"value\":[\"ZSR101BLMLG\"]}]'],\n",
              "      dtype=object)"
            ]
          },
          "metadata": {
            "tags": []
          },
          "execution_count": 13
        }
      ]
    },
    {
      "cell_type": "code",
      "metadata": {
        "id": "vzCwmRCrLqP7",
        "colab_type": "code",
        "outputId": "aad8beea-8d46-42d9-c200-7f59fd878f05",
        "colab": {
          "base_uri": "https://localhost:8080/",
          "height": 34
        }
      },
      "source": [
        "test = {'key': 'value'}\n",
        "test['key']\n",
        "str(test)"
      ],
      "execution_count": 0,
      "outputs": [
        {
          "output_type": "execute_result",
          "data": {
            "text/plain": [
              "\"{'key': 'value'}\""
            ]
          },
          "metadata": {
            "tags": []
          },
          "execution_count": 14
        }
      ]
    },
    {
      "cell_type": "code",
      "metadata": {
        "id": "Yo5bL8fCNina",
        "colab_type": "code",
        "colab": {}
      },
      "source": [
        "def parse_features(x):\n",
        "  output_dict = {}\n",
        "  if str(x) == 'nan' : return output_dict\n",
        "\n",
        "  features = literal_eval(x.replace('\\\\\"','\"'))\n",
        "  for item  in features:\n",
        "    key = item['key'].lower().strip()\n",
        "    value = item['value'][0].lower().strip()\n",
        "\n",
        "    output_dict[key] = value\n",
        "\n",
        "  return output_dict\n",
        "\n",
        "df['features_parsed'] = df['features'].map(parse_features)\n"
      ],
      "execution_count": 0,
      "outputs": []
    },
    {
      "cell_type": "code",
      "metadata": {
        "id": "ZmHn7XKoPr5m",
        "colab_type": "code",
        "outputId": "4d5f232c-8511-4f15-e082-aeba2513b9fb",
        "colab": {
          "base_uri": "https://localhost:8080/",
          "height": 34
        }
      },
      "source": [
        "keys = set()\n",
        "df['features_parsed'].map( lambda x: keys.update(x.keys()) )\n",
        "len(keys)"
      ],
      "execution_count": 0,
      "outputs": [
        {
          "output_type": "execute_result",
          "data": {
            "text/plain": [
              "476"
            ]
          },
          "metadata": {
            "tags": []
          },
          "execution_count": 16
        }
      ]
    },
    {
      "cell_type": "code",
      "metadata": {
        "id": "pJ4b8CsNSd5P",
        "colab_type": "code",
        "outputId": "b5dde267-70e0-49ce-9694-e834b3fe00fa",
        "colab": {
          "base_uri": "https://localhost:8080/",
          "height": 66,
          "referenced_widgets": [
            "092e94418a7440d1a1c30a39b423beed",
            "fbb242287ff8421d8cc15ea20645f0c8",
            "7b307b15f0e14657a770215186f917ea",
            "09daef9ee1564a4991e68d0978354b88",
            "77537ca7eedf485ab6d9f3b784fd6098",
            "cc8b62d8315848e9b14b095e3a3aeb97",
            "b790119142bb4600a1ab356ed03fb0ea",
            "f2890d6f713f45c5a40bea34c8b2b84d"
          ]
        }
      },
      "source": [
        "def get_name_feat(key):\n",
        "  return 'feat_' + key\n",
        "for key in tqdm_notebook(keys):\n",
        "  df[get_name_feat(key)] = df.features_parsed.map(lambda feats: feats[key] if key in feats else np.nan )"
      ],
      "execution_count": 0,
      "outputs": [
        {
          "output_type": "display_data",
          "data": {
            "application/vnd.jupyter.widget-view+json": {
              "model_id": "092e94418a7440d1a1c30a39b423beed",
              "version_minor": 0,
              "version_major": 2
            },
            "text/plain": [
              "HBox(children=(IntProgress(value=0, max=476), HTML(value='')))"
            ]
          },
          "metadata": {
            "tags": []
          }
        },
        {
          "output_type": "stream",
          "text": [
            "\n"
          ],
          "name": "stdout"
        }
      ]
    },
    {
      "cell_type": "code",
      "metadata": {
        "id": "Ppw5RhHSYek9",
        "colab_type": "code",
        "outputId": "93349023-8794-414b-9b2f-0ec64cc03dff",
        "colab": {
          "base_uri": "https://localhost:8080/",
          "height": 153
        }
      },
      "source": [
        "df.columns"
      ],
      "execution_count": 0,
      "outputs": [
        {
          "output_type": "execute_result",
          "data": {
            "text/plain": [
              "Index(['id', 'asins', 'brand', 'categories', 'colors', 'count', 'dateadded',\n",
              "       'dateupdated', 'descriptions', 'dimension',\n",
              "       ...\n",
              "       'feat_charge time (minutes)', 'feat_impact resistant', 'feat_inv',\n",
              "       'feat_style', 'feat_location - city/state', 'feat_weather resistant',\n",
              "       'feat_age gender group', 'feat_expandable',\n",
              "       'feat_seller inventory number', 'feat_interior pockets'],\n",
              "      dtype='object', length=526)"
            ]
          },
          "metadata": {
            "tags": []
          },
          "execution_count": 18
        }
      ]
    },
    {
      "cell_type": "code",
      "metadata": {
        "id": "1UWFRqOBYhSt",
        "colab_type": "code",
        "outputId": "352419b1-2c62-4c18-d9d9-bef0c2745161",
        "colab": {
          "base_uri": "https://localhost:8080/",
          "height": 153
        }
      },
      "source": [
        "df.columns"
      ],
      "execution_count": 0,
      "outputs": [
        {
          "output_type": "execute_result",
          "data": {
            "text/plain": [
              "Index(['id', 'asins', 'brand', 'categories', 'colors', 'count', 'dateadded',\n",
              "       'dateupdated', 'descriptions', 'dimension',\n",
              "       ...\n",
              "       'feat_charge time (minutes)', 'feat_impact resistant', 'feat_inv',\n",
              "       'feat_style', 'feat_location - city/state', 'feat_weather resistant',\n",
              "       'feat_age gender group', 'feat_expandable',\n",
              "       'feat_seller inventory number', 'feat_interior pockets'],\n",
              "      dtype='object', length=526)"
            ]
          },
          "metadata": {
            "tags": []
          },
          "execution_count": 19
        }
      ]
    },
    {
      "cell_type": "code",
      "metadata": {
        "id": "3vEf3zQUYvrX",
        "colab_type": "code",
        "colab": {}
      },
      "source": [
        "keys_stat = {}\n",
        "for key in keys:\n",
        "  keys_stat[key] = df[ False == df[get_name_feat(key)].isnull() ].shape[0] / df.shape[0] * 100"
      ],
      "execution_count": 0,
      "outputs": []
    },
    {
      "cell_type": "code",
      "metadata": {
        "id": "xM57gsL9ZaGZ",
        "colab_type": "code",
        "outputId": "545a86f4-e54e-4a07-b186-9e9ab16eaa48",
        "colab": {
          "base_uri": "https://localhost:8080/",
          "height": 102
        }
      },
      "source": [
        "{k:v for k,v in keys_stat.items() if v > 30}"
      ],
      "execution_count": 0,
      "outputs": [
        {
          "output_type": "execute_result",
          "data": {
            "text/plain": [
              "{'brand': 48.62691466083151,\n",
              " 'color': 47.784463894967175,\n",
              " 'gender': 50.17505470459519,\n",
              " 'manufacturer part number': 36.252735229759296,\n",
              " 'material': 34.9070021881838}"
            ]
          },
          "metadata": {
            "tags": []
          },
          "execution_count": 23
        }
      ]
    },
    {
      "cell_type": "code",
      "metadata": {
        "id": "ug57f24QbBUL",
        "colab_type": "code",
        "colab": {}
      },
      "source": [
        "df['feat_brand_cat'] = df['feat_brand'].factorize()[0]\n",
        "df['feat_color_cat'] = df['feat_color'].factorize()[0]\n",
        "df['feat_gender_cat'] = df['feat_gender'].factorize()[0]\n",
        "df['feat_manufacturer part number_cat'] = df['feat_manufacturer part number'].factorize()[0]\n",
        "df['feat_material_cat'] = df['feat_material'].factorize()[0]\n",
        "\n",
        "df['feat_sport_cat'] = df['feat_sport'].factorize()[0]\n",
        "df['feat_style_cat'] = df['feat_style'].factorize()[0]\n",
        "\n",
        "for key in keys:\n",
        "  df[get_name_feat(key) + '_cat' ] = df[get_name_feat(key)].factorize()[0]\n",
        "  "
      ],
      "execution_count": 0,
      "outputs": []
    },
    {
      "cell_type": "code",
      "metadata": {
        "id": "EamXus4QX71J",
        "colab_type": "code",
        "outputId": "ebb8c936-42ae-44ee-cd2a-4296d3e53556",
        "colab": {
          "base_uri": "https://localhost:8080/",
          "height": 34
        }
      },
      "source": [
        "df['brand'] = df['brand'].map(lambda x: str(x).lower() )\n",
        "df[ df.brand == df.feat_brand ][ ['brand', 'feat_brand']].shape"
      ],
      "execution_count": 0,
      "outputs": [
        {
          "output_type": "execute_result",
          "data": {
            "text/plain": [
              "(8846, 2)"
            ]
          },
          "metadata": {
            "tags": []
          },
          "execution_count": 39
        }
      ]
    },
    {
      "cell_type": "code",
      "metadata": {
        "id": "lHDMxjRiZ5_d",
        "colab_type": "code",
        "colab": {}
      },
      "source": [
        "feats = ['']\n"
      ],
      "execution_count": 0,
      "outputs": []
    },
    {
      "cell_type": "code",
      "metadata": {
        "id": "gqiKjMGDtUqG",
        "colab_type": "code",
        "outputId": "4ea9cb9a-a968-444c-fb96-951dc8354b90",
        "colab": {
          "base_uri": "https://localhost:8080/",
          "height": 1000
        }
      },
      "source": [
        "feats_cat = [x for x in df.columns if 'cat' in x]\n",
        "feats_cat"
      ],
      "execution_count": 0,
      "outputs": [
        {
          "output_type": "execute_result",
          "data": {
            "text/plain": [
              "['categories',\n",
              " 'brand_cat',\n",
              " 'feat_certifications and listings',\n",
              " 'feat_multi pack indicator',\n",
              " 'feat_shoe category',\n",
              " 'feat_clothing category',\n",
              " 'feat_catalog',\n",
              " 'feat_location - country',\n",
              " 'feat_recommended location',\n",
              " 'feat_fabrication',\n",
              " 'feat_location - city/state',\n",
              " 'feat_brand_cat',\n",
              " 'feat_color_cat',\n",
              " 'feat_gender_cat',\n",
              " 'feat_manufacturer part number_cat',\n",
              " 'feat_material_cat',\n",
              " 'feat_sport_cat',\n",
              " 'feat_style_cat',\n",
              " 'feat_case type:_cat',\n",
              " 'feat_net weight_cat',\n",
              " 'feat_international shipping?_cat',\n",
              " 'feat_length_cat',\n",
              " 'feat_year made_cat',\n",
              " 'feat_pattern or design_cat',\n",
              " 'feat_item weight_cat',\n",
              " 'feat_terrain_cat',\n",
              " 'feat_frame type_cat',\n",
              " 'feat_case type_cat',\n",
              " 'feat_dial material_cat',\n",
              " 'feat_temple size:_cat',\n",
              " 'feat_stylenumber_cat',\n",
              " 'feat_country of origin - assembly_cat',\n",
              " 'feat_main colour_cat',\n",
              " 'feat_protects against_cat',\n",
              " 'feat_character_cat',\n",
              " 'feat_age group_cat',\n",
              " 'feat_mirrored_cat',\n",
              " 'feat_heat zones_cat',\n",
              " 'feat_materials_cat',\n",
              " 'feat_height_cat',\n",
              " 'feat_contains batteries_cat',\n",
              " 'feat_manufacturer number_cat',\n",
              " 'feat_contained battery type_cat',\n",
              " 'feat_age range_cat',\n",
              " 'feat_fits models_cat',\n",
              " 'feat_antiscratch lens coating_cat',\n",
              " 'feat_diameter_cat',\n",
              " 'feat_dial color_cat',\n",
              " 'feat_type of sole_cat',\n",
              " 'feat_����������������_cat',\n",
              " 'feat_primary shelf id_cat',\n",
              " 'feat_number of items_cat',\n",
              " 'feat_comfort technology_cat',\n",
              " 'feat_outer material_cat',\n",
              " 'feat_case thickness_cat',\n",
              " 'feat_battery type_cat',\n",
              " 'feat_global composite sports type_cat',\n",
              " 'feat_removable hood_cat',\n",
              " 'feat_certifications and listings_cat',\n",
              " 'feat_metal stamp_cat',\n",
              " 'feat_footwear type_cat',\n",
              " 'feat_main color_cat',\n",
              " 'feat_colour_cat',\n",
              " 'feat_nike id_cat',\n",
              " 'feat_charger included_cat',\n",
              " 'feat_release_cat',\n",
              " 'feat_model no._cat',\n",
              " 'feat_jewelry setting_cat',\n",
              " 'feat_gold karat_cat',\n",
              " 'feat_bridge size:_cat',\n",
              " 'feat_sleeve style_cat',\n",
              " 'feat_has paper wood_cat',\n",
              " 'feat_is dark sky-compliant_cat',\n",
              " 'feat_country of manufacture_cat',\n",
              " 'feat_batteries required_cat',\n",
              " 'feat_sizebridge_cat',\n",
              " 'feat_weight_cat',\n",
              " 'feat_is orthopedic_cat',\n",
              " 'feat_water resistant_cat',\n",
              " 'feat_is waterproof_cat',\n",
              " 'feat_size/dimensions_cat',\n",
              " 'feat_fabric care_cat',\n",
              " 'feat_safety feature_cat',\n",
              " 'feat_hands_cat',\n",
              " 'feat_features_cat',\n",
              " 'feat_hooded_cat',\n",
              " 'feat_uv rating_cat',\n",
              " 'feat_part number_cat',\n",
              " 'feat_band type_cat',\n",
              " 'feat_band length (in.)_cat',\n",
              " 'feat_issued/ not-issued_cat',\n",
              " 'feat_part type_cat',\n",
              " 'feat_case back_cat',\n",
              " 'feat_sub type_cat',\n",
              " 'feat_compatible devices_cat',\n",
              " 'feat_airport friendly_cat',\n",
              " 'feat_style code_cat',\n",
              " 'feat_lens width_cat',\n",
              " 'feat_frame shape_cat',\n",
              " 'feat_is lined_cat',\n",
              " 'feat_lens color_cat',\n",
              " 'feat_style number_cat',\n",
              " 'feat_auto_cat',\n",
              " 'feat_hunting_cat',\n",
              " 'feat_clothing type_cat',\n",
              " 'feat_wheel type_cat',\n",
              " 'feat_athlete_cat',\n",
              " 'feat_necklace type_cat',\n",
              " 'feat_lined_cat',\n",
              " 'feat_military style_cat',\n",
              " 'feat_suitable for_cat',\n",
              " 'feat_has mercury_cat',\n",
              " 'feat_label_cat',\n",
              " 'feat_age start_cat',\n",
              " 'feat_light transmission (vlt)_cat',\n",
              " 'feat_frame depth_cat',\n",
              " 'feat_euro size_cat',\n",
              " 'feat_chronograph_cat',\n",
              " 'feat_manufacturer_part_number_cat',\n",
              " 'feat_closure style_cat',\n",
              " 'feat_model number_cat',\n",
              " 'feat_multi pack indicator_cat',\n",
              " 'feat_eyewear frame style_cat',\n",
              " 'feat_shoe category_cat',\n",
              " 'feat_wheeled_cat',\n",
              " 'feat_nickel free_cat',\n",
              " 'feat_is energy star-certified_cat',\n",
              " 'feat_case diameter_cat',\n",
              " 'feat_clothing category_cat',\n",
              " 'feat_spikes type_cat',\n",
              " 'feat_hairstyle_cat',\n",
              " 'feat_chain included_cat',\n",
              " 'feat_shipping weight (in pounds)_cat',\n",
              " 'feat_product type_cat',\n",
              " 'feat_chest_cat',\n",
              " 'feat_face shape_cat',\n",
              " 'feat_assembled product dimensions (l x w x h)_cat',\n",
              " 'feat_free item_cat',\n",
              " 'feat_international shipping_cat',\n",
              " 'feat_bag size range_cat',\n",
              " 'feat_stock no._cat',\n",
              " 'feat_frame material:_cat',\n",
              " 'feat_pant style_cat',\n",
              " 'feat_cushioning_cat',\n",
              " 'feat_black_cat',\n",
              " 'feat_stone type_cat',\n",
              " 'feat_watch case shape_cat',\n",
              " 'feat_cleaning, care & maintenance_cat',\n",
              " 'feat_smart watch_cat',\n",
              " 'feat_vendor description_cat',\n",
              " 'feat_purpose_cat',\n",
              " 'feat_jacket length_cat',\n",
              " 'feat_very popular bag now a days_cat',\n",
              " 'feat_bridge width_cat',\n",
              " 'feat_disclosures_cat',\n",
              " 'feat_batteries included?_cat',\n",
              " 'feat_fits styles_cat',\n",
              " 'feat_fits brands_cat',\n",
              " 'feat_fit to_cat',\n",
              " 'feat_shoe height_cat',\n",
              " 'feat_bed size_cat',\n",
              " 'feat_safety apparel product type_cat',\n",
              " 'feat_year_cat',\n",
              " 'feat_number of heat settings_cat',\n",
              " 'feat_chain/necklace length (in.)_cat',\n",
              " 'feat_enhanced visibility (reflective)_cat',\n",
              " 'feat_parts_cat',\n",
              " 'feat_lens type_cat',\n",
              " 'feat_leg opening:_cat',\n",
              " 'feat_high visibility (ansi compliant)_cat',\n",
              " 'feat_instrument_cat',\n",
              " 'feat_golf shoe type_cat',\n",
              " 'feat_shade_cat',\n",
              " 'feat_manufacturer sku_cat',\n",
              " 'feat_capacity_cat',\n",
              " 'feat_model_cat',\n",
              " 'feat_ground_cat',\n",
              " 'feat_looks best on these face shapes:_cat',\n",
              " 'feat_lining material_cat',\n",
              " 'feat_country of origin_cat',\n",
              " 'feat_upper material_cat',\n",
              " 'feat_light weight_cat',\n",
              " 'feat_machine washable_cat',\n",
              " 'feat_fits model_cat',\n",
              " 'feat_metal type_cat',\n",
              " 'feat_era_cat',\n",
              " 'feat_catalog_cat',\n",
              " 'feat_lens material_cat',\n",
              " 'feat_is polarized_cat',\n",
              " 'feat_fabric care instructions_cat',\n",
              " 'feat_design_cat',\n",
              " 'feat_eye size:_cat',\n",
              " 'feat_made in_cat',\n",
              " 'feat_insulated_cat',\n",
              " 'feat_dimensions_cat',\n",
              " 'feat_uv protection_cat',\n",
              " 'feat_profession_cat',\n",
              " 'feat_mpn_cat',\n",
              " 'feat_case finish_cat',\n",
              " 'feat_case tone_cat',\n",
              " 'feat_ean_cat',\n",
              " 'feat_feature_cat',\n",
              " 'feat_retail price_cat',\n",
              " 'feat_product in inches (l x w x h)_cat',\n",
              " 'feat_case material_cat',\n",
              " 'feat_date first available at amazon.co.uk_cat',\n",
              " 'feat_mechanic_cat',\n",
              " 'feat_watch style_cat',\n",
              " 'feat_color/finish family_cat',\n",
              " 'feat_msrp_cat',\n",
              " 'feat_location - country_cat',\n",
              " 'feat_audience_cat',\n",
              " 'feat_use_cat',\n",
              " 'feat_tactical_cat',\n",
              " 'feat_movement_cat',\n",
              " 'feat_technician_cat',\n",
              " 'feat_material type_cat',\n",
              " 'feat_assembled in country of origin_cat',\n",
              " 'feat_accessory type_cat',\n",
              " 'feat_watch power source_cat',\n",
              " 'feat_protection_cat',\n",
              " 'feat_shoe size_cat',\n",
              " 'feat_applicable_cat',\n",
              " 'feat_shape_cat',\n",
              " 'feat_kids backpacks_cat',\n",
              " 'feat_weather-resistant_cat',\n",
              " 'feat_count_cat',\n",
              " 'feat_conflict_cat',\n",
              " 'feat_compass_cat',\n",
              " 'feat_resolution_cat',\n",
              " 'feat_amazonbestsellersrank_cat',\n",
              " 'feat_temple length_cat',\n",
              " 'feat_fabric type_cat',\n",
              " 'feat_country/region of manufacture_cat',\n",
              " 'feat_recommended use_cat',\n",
              " 'feat_clasp type_cat',\n",
              " 'feat_eye protection type_cat',\n",
              " 'feat_watch shape_cat',\n",
              " 'feat_clothing product type_cat',\n",
              " 'feat_watch band material_cat',\n",
              " 'feat_occasion_cat',\n",
              " 'feat_band length_cat',\n",
              " 'feat_material detail-1_cat',\n",
              " 'feat_pattern_cat',\n",
              " 'feat_country of origin assembly:_cat',\n",
              " 'feat_bezel_cat',\n",
              " 'feat_diamond color_cat',\n",
              " 'feat_band color_cat',\n",
              " 'feat_walmart no._cat',\n",
              " 'feat_combined shipping_cat',\n",
              " 'feat_width_cat',\n",
              " 'feat_authenticity_cat',\n",
              " 'feat_general warranty_cat',\n",
              " 'feat_band material_cat',\n",
              " 'feat_hammer loop_cat',\n",
              " 'feat_hardsided or softsided_cat',\n",
              " 'feat_number of batteries included_cat',\n",
              " 'feat_atpv arc rating_cat',\n",
              " 'feat_rx-able_cat',\n",
              " 'feat_place of origin_cat',\n",
              " 'feat_is weather-resistant_cat',\n",
              " 'feat_guaranteed authentic_cat',\n",
              " 'feat_fit:_cat',\n",
              " 'feat_power type_cat',\n",
              " 'feat_fuel type_cat',\n",
              " 'feat_boot height_cat',\n",
              " 'feat_color family_cat',\n",
              " 'feat_attachment_cat',\n",
              " 'feat_overall material_cat',\n",
              " 'feat_designed for_cat',\n",
              " 'feat_shoe fastening type_cat',\n",
              " 'feat_date first available at amazon.ca_cat',\n",
              " 'feat_motion control_cat',\n",
              " 'feat_shipping to usa_cat',\n",
              " 'feat_material composition_cat',\n",
              " 'feat_full product manual_cat',\n",
              " 'feat_item weight unit of measure_cat',\n",
              " 'feat_removable liner_cat',\n",
              " 'feat_number of compartments_cat',\n",
              " 'feat_lens tint_cat',\n",
              " 'feat_resolution megapixels_cat',\n",
              " 'feat_handbag style_cat',\n",
              " 'feat_quantity in set_cat',\n",
              " 'feat_fishing_cat',\n",
              " 'feat_is recyclable_cat',\n",
              " 'feat_date first available_cat',\n",
              " 'feat_has expiration_cat',\n",
              " 'feat_sku number_cat',\n",
              " 'feat_used with equipment type_cat',\n",
              " 'feat_shoe width_cat',\n",
              " 'feat_fabric_cat',\n",
              " 'feat_series name_cat',\n",
              " 'feat_is water-resistant_cat',\n",
              " 'feat_flame resistant_cat',\n",
              " 'feat_chest size_cat',\n",
              " 'feat_product dimensions_cat',\n",
              " 'feat_number of pieces_cat',\n",
              " 'feat_sleeve length_cat',\n",
              " 'feat_licensed_cat',\n",
              " 'feat_variant group id_cat',\n",
              " 'feat_elastic banded waist_cat',\n",
              " 'feat_hood_cat',\n",
              " 'feat_country////region of manufacture_cat',\n",
              " 'feat_auto shut-off_cat',\n",
              " 'feat_animal type_cat',\n",
              " 'feat_vehicle type_cat',\n",
              " 'feat_assembled product weight_cat',\n",
              " 'feat_designer_cat',\n",
              " 'feat_alarm_cat',\n",
              " 'feat_thick, warm, cozy_cat',\n",
              " 'feat_age end_cat',\n",
              " 'feat_transactionid_cat',\n",
              " 'feat_type_cat',\n",
              " 'feat_resizable_cat',\n",
              " 'feat_szie_cat',\n",
              " 'feat_bridge/temple size:_cat',\n",
              " 'feat_shirt size_cat',\n",
              " 'feat_power reserve_cat',\n",
              " 'feat_casing_cat',\n",
              " 'feat_nike product #_cat',\n",
              " 'feat_item package quantity_cat',\n",
              " 'feat_is portable_cat',\n",
              " 'feat_bridge_cat',\n",
              " 'feat_hat style_cat',\n",
              " 'feat_arm_cat',\n",
              " 'feat_fits over eyeglasses_cat',\n",
              " 'feat_style #_cat',\n",
              " 'feat_fit_cat',\n",
              " 'feat_primary color_cat',\n",
              " 'feat_battery voltage_cat',\n",
              " 'feat_clothing size_cat',\n",
              " 'feat_ring style_cat',\n",
              " 'feat_recommended location_cat',\n",
              " 'feat_navy blue_cat',\n",
              " 'feat_product id_cat',\n",
              " 'feat_wash_cat',\n",
              " 'feat_bracelet style_cat',\n",
              " 'feat_wind resistant_cat',\n",
              " 'feat_best sellers rank_cat',\n",
              " 'feat_clothing size type_cat',\n",
              " 'feat_toe type_cat',\n",
              " 'feat_heel height_cat',\n",
              " 'feat_front style_cat',\n",
              " 'feat_season_cat',\n",
              " 'feat_name_cat',\n",
              " 'feat_features & fastening_cat',\n",
              " 'feat_labor_cat',\n",
              " 'feat_lens color family_cat',\n",
              " 'feat_adidas_cat',\n",
              " 'feat_fabric material_cat',\n",
              " 'feat_country//region of manufacture_cat',\n",
              " 'feat_frame material_cat',\n",
              " 'feat_style name_cat',\n",
              " 'feat_mpn#_cat',\n",
              " 'feat_100% adidas authentic_cat',\n",
              " 'feat_crystal_cat',\n",
              " 'feat_item type_cat',\n",
              " 'feat_construction_cat',\n",
              " 'feat_contains cubic zirconia_cat',\n",
              " 'feat_fine or fashion_cat',\n",
              " 'feat_pocket_cat',\n",
              " 'feat_has adaptive lenses_cat',\n",
              " 'feat_special features_cat',\n",
              " 'feat_foot arch_cat',\n",
              " 'feat_domestic shipping_cat',\n",
              " 'feat_product name_cat',\n",
              " 'feat_leg_cat',\n",
              " 'feat_shoe closure_cat',\n",
              " 'feat_sku_cat',\n",
              " 'feat_fabrication_cat',\n",
              " 'feat_rise_cat',\n",
              " 'feat_leather grade_cat',\n",
              " 'feat_sock style_cat',\n",
              " 'feat_shipping weight_cat',\n",
              " 'feat_carats_cat',\n",
              " 'feat_is wheeled_cat',\n",
              " 'feat_color mapping_cat',\n",
              " 'feat_sub style_cat',\n",
              " 'feat_measurements:_cat',\n",
              " 'feat_country/ organization_cat',\n",
              " 'feat_chain length_cat',\n",
              " 'feat_picture_cat',\n",
              " 'feat_pronation_cat',\n",
              " 'feat_origin of components_cat',\n",
              " 'feat_waist_cat',\n",
              " 'feat_age segment_cat',\n",
              " 'feat_band width_cat',\n",
              " 'feat_crown_cat',\n",
              " 'feat_sizearm_cat',\n",
              " 'feat_sock size_cat',\n",
              " 'feat_sku#_cat',\n",
              " 'feat_diamond clarity_cat',\n",
              " 'feat_leather :_cat',\n",
              " 'feat_number of pockets_cat',\n",
              " 'feat_dial markers_cat',\n",
              " 'feat_colour code_cat',\n",
              " 'feat_what includes_cat',\n",
              " 'feat_fits most screen size_cat',\n",
              " 'feat_target audience_cat',\n",
              " 'feat_polarized lenses_cat',\n",
              " 'feat_safety features_cat',\n",
              " 'feat_reinforced knee_cat',\n",
              " 'feat_product #_cat',\n",
              " 'feat_date_cat',\n",
              " 'feat_item spec attr - style (ebay)_cat',\n",
              " 'feat_metal color_cat',\n",
              " 'feat_lining_cat',\n",
              " 'feat_front_cat',\n",
              " 'feat_age_cat',\n",
              " 'feat_closure_cat',\n",
              " 'feat_boxed-product dimensions_cat',\n",
              " 'feat_garment care_cat',\n",
              " 'feat_condition_cat',\n",
              " 'feat_box_cat',\n",
              " 'feat_frame style_cat',\n",
              " 'feat_casual & dress shoe style_cat',\n",
              " 'feat_cm_cat',\n",
              " 'feat_style:_cat',\n",
              " 'feat_reinforced pockets_cat',\n",
              " 'feat_ul safety listing_cat',\n",
              " 'feat_lens technology_cat',\n",
              " 'feat_package_cat',\n",
              " 'feat_finish_cat',\n",
              " 'feat_sole_cat',\n",
              " 'feat_ring size_cat',\n",
              " 'feat_item character_cat',\n",
              " 'feat_item style_cat',\n",
              " 'feat_productgroup_cat',\n",
              " 'feat_sports league_cat',\n",
              " 'feat_fastener_cat',\n",
              " 'feat_genre_cat',\n",
              " 'feat_size_cat',\n",
              " 'feat_fastener type_cat',\n",
              " 'feat_stability_cat',\n",
              " 'feat_item width_cat',\n",
              " 'feat_gemstone type_cat',\n",
              " 'feat_water-resistant_cat',\n",
              " 'feat_country of origin - components_cat',\n",
              " 'feat_heart rate monitor_cat',\n",
              " 'feat_gps_cat',\n",
              " 'feat_материал_cat',\n",
              " 'feat_subdial_cat',\n",
              " 'feat_packageweight_cat',\n",
              " 'feat_lens socket width_cat',\n",
              " 'feat_manufacturer_cat',\n",
              " 'feat_autographed_cat',\n",
              " 'feat_band manufacturer_cat',\n",
              " 'feat_adjustable_cat',\n",
              " 'feat_article_cat',\n",
              " 'feat_number of wheels_cat',\n",
              " 'feat_isbn_cat',\n",
              " 'feat_display technology_cat',\n",
              " 'feat_batteries required?_cat',\n",
              " 'feat_insulation_cat',\n",
              " 'feat_lens material:_cat',\n",
              " 'feat_characteristics_cat',\n",
              " 'feat_polarized?_cat',\n",
              " 'feat_lens_cat',\n",
              " 'feat_digital camera_cat',\n",
              " 'feat_neckline_cat',\n",
              " 'feat_theme_cat',\n",
              " 'feat_inseam_cat',\n",
              " 'feat_to fit_cat',\n",
              " 'feat_polarized_cat',\n",
              " 'feat_item color_cat',\n",
              " 'feat_sports team_cat',\n",
              " 'feat_country of manufacturer_cat',\n",
              " 'feat_display_cat',\n",
              " 'feat_waterproof_cat',\n",
              " 'feat_country of origin components:_cat',\n",
              " 'feat_frame color_cat',\n",
              " 'feat_video game platform_cat',\n",
              " 'feat_fabric content_cat',\n",
              " 'feat_type 2_cat',\n",
              " 'feat_work shoes_cat',\n",
              " 'feat_polarised_cat',\n",
              " 'feat_includes_cat',\n",
              " 'feat_waist size_cat',\n",
              " 'feat_charge time (minutes)_cat',\n",
              " 'feat_impact resistant_cat',\n",
              " 'feat_inv_cat',\n",
              " 'feat_location - city/state_cat',\n",
              " 'feat_weather resistant_cat',\n",
              " 'feat_age gender group_cat',\n",
              " 'feat_expandable_cat',\n",
              " 'feat_seller inventory number_cat',\n",
              " 'feat_interior pockets_cat']"
            ]
          },
          "metadata": {
            "tags": []
          },
          "execution_count": 74
        }
      ]
    },
    {
      "cell_type": "code",
      "metadata": {
        "id": "CLfJs9r0xf5G",
        "colab_type": "code",
        "outputId": "2da00bbf-ed25-4d30-b3cf-4ddef1f76d15",
        "colab": {
          "base_uri": "https://localhost:8080/",
          "height": 289
        }
      },
      "source": [
        "df['weight'].unique()"
      ],
      "execution_count": 0,
      "outputs": [
        {
          "output_type": "execute_result",
          "data": {
            "text/plain": [
              "array([nan, '3.0 lbs', '9 g', '1.45 lbs', '0.45 lbs', '1.0 lbs',\n",
              "       '0.23 lbs', '5.0 lbs', '5.5 lbs', '7.45 lbs', '4.0 lbs',\n",
              "       '2.7969 lbs', '3.9 lbs', '4.6 pounds', '2.1 lbs', '1.1057 lbs',\n",
              "       '15.0 lbs', '2.4 ounces', '454 g', '0.105 lbs', '9.1 ounces',\n",
              "       '4.8 lbs', '6.1 lbs', '6.5 lbs', '1.1041 lbs', '1.3 Kg', '91 g',\n",
              "       '20.0 lbs', '6.0 lbs', '386 g', '0.81 lbs', '4.5 lbs',\n",
              "       '0.5 ounces', '2.0 lbs', '3.13 lbs', '5.9 lbs', '6.15 lbs',\n",
              "       '1 pounds', '1.95 lbs', '2.15 lbs', '2 pounds', '2.1 pounds',\n",
              "       '14 Kg', '0.4788 lbs', '10.0 lbs', '0.38 lbs', '2.5 lbs',\n",
              "       '68.912 lbs', '45 g', '13.09 lbs', '2.5 pounds', '0.21 lbs',\n",
              "       '16.75 lbs', '6.3 lbs', '272 g', '1.8 Kg', '2.8 pounds', '0.1 lbs',\n",
              "       '5.05 lbs', '0.28 lbs', '76.08 lbs', '0.15 lbs', '200 g',\n",
              "       '7.8 pounds', '399 g', '4.95 lbs', '64.144 lbs', '24 pounds',\n",
              "       '73.696 lbs', '1.6 lbs', '6.6 ounces', '5 g', '1.2 Kg', '862 g',\n",
              "       '3.05 lb', '8.6 ounces', '3.6 lbs', '71.296 lbs', '5.2 pounds',\n",
              "       '3.44 lbs', '0.3 ounces', '1.4 Kg'], dtype=object)"
            ]
          },
          "metadata": {
            "tags": []
          },
          "execution_count": 94
        }
      ]
    },
    {
      "cell_type": "code",
      "metadata": {
        "id": "30mNWNN-Wg9a",
        "colab_type": "code",
        "colab": {}
      },
      "source": [
        "feats = ['brand_cat', 'feat_metal type_cat', 'feat_adjustable_cat', 'feat_brand_cat', 'feat_material_cat', 'feat_style_cat']\n",
        "#feats += feats_cat\n",
        "#feats = list(set(feats))\n",
        "feats += [ 'feat_fabric content_cat', 'feat_heart rate monitor_cat' ]"
      ],
      "execution_count": 0,
      "outputs": []
    },
    {
      "cell_type": "markdown",
      "metadata": {
        "id": "KruaebrAzj-J",
        "colab_type": "text"
      },
      "source": [
        ""
      ]
    },
    {
      "cell_type": "code",
      "metadata": {
        "id": "lk88CQjPaXoj",
        "colab_type": "code",
        "colab": {}
      },
      "source": [
        "model = RandomForestRegressor(max_depth=5, n_estimators=100)\n",
        "result = run_model(feats, model)"
      ],
      "execution_count": 0,
      "outputs": []
    },
    {
      "cell_type": "code",
      "metadata": {
        "id": "Mec-D2k0dv36",
        "colab_type": "code",
        "outputId": "aba7c3df-0dd1-4142-fc53-2dc6d7d898a8",
        "colab": {
          "base_uri": "https://localhost:8080/",
          "height": 187
        }
      },
      "source": [
        "X = df[ feats ].values\n",
        "y = df['prices_amountmin'].values\n",
        "\n",
        "m = RandomForestRegressor(max_depth=5, n_estimators=100, random_state=0)\n",
        "m.fit(X, y)\n",
        "\n",
        "print(result)\n",
        "perm=PermutationImportance(m, random_state=1).fit(X, y);\n",
        "eli5.show_weights(perm, feature_names=feats)"
      ],
      "execution_count": 112,
      "outputs": [
        {
          "output_type": "stream",
          "text": [
            "(-57.455451562479425, 4.202188119454403)\n"
          ],
          "name": "stdout"
        },
        {
          "output_type": "execute_result",
          "data": {
            "text/html": [
              "\n",
              "    <style>\n",
              "    table.eli5-weights tr:hover {\n",
              "        filter: brightness(85%);\n",
              "    }\n",
              "</style>\n",
              "\n",
              "\n",
              "\n",
              "    \n",
              "\n",
              "    \n",
              "\n",
              "    \n",
              "\n",
              "    \n",
              "\n",
              "    \n",
              "\n",
              "    \n",
              "\n",
              "\n",
              "    \n",
              "\n",
              "    \n",
              "\n",
              "    \n",
              "\n",
              "    \n",
              "\n",
              "    \n",
              "\n",
              "    \n",
              "\n",
              "\n",
              "    \n",
              "\n",
              "    \n",
              "\n",
              "    \n",
              "\n",
              "    \n",
              "\n",
              "    \n",
              "        <table class=\"eli5-weights eli5-feature-importances\" style=\"border-collapse: collapse; border: none; margin-top: 0em; table-layout: auto;\">\n",
              "    <thead>\n",
              "    <tr style=\"border: none;\">\n",
              "        <th style=\"padding: 0 1em 0 0.5em; text-align: right; border: none;\">Weight</th>\n",
              "        <th style=\"padding: 0 0.5em 0 0.5em; text-align: left; border: none;\">Feature</th>\n",
              "    </tr>\n",
              "    </thead>\n",
              "    <tbody>\n",
              "    \n",
              "        <tr style=\"background-color: hsl(120, 100.00%, 80.00%); border: none;\">\n",
              "            <td style=\"padding: 0 1em 0 0.5em; text-align: right; border: none;\">\n",
              "                0.2626\n",
              "                \n",
              "                    &plusmn; 0.0085\n",
              "                \n",
              "            </td>\n",
              "            <td style=\"padding: 0 0.5em 0 0.5em; text-align: left; border: none;\">\n",
              "                brand_cat\n",
              "            </td>\n",
              "        </tr>\n",
              "    \n",
              "        <tr style=\"background-color: hsl(120, 100.00%, 88.67%); border: none;\">\n",
              "            <td style=\"padding: 0 1em 0 0.5em; text-align: right; border: none;\">\n",
              "                0.1166\n",
              "                \n",
              "                    &plusmn; 0.0029\n",
              "                \n",
              "            </td>\n",
              "            <td style=\"padding: 0 0.5em 0 0.5em; text-align: left; border: none;\">\n",
              "                feat_material_cat\n",
              "            </td>\n",
              "        </tr>\n",
              "    \n",
              "        <tr style=\"background-color: hsl(120, 100.00%, 93.68%); border: none;\">\n",
              "            <td style=\"padding: 0 1em 0 0.5em; text-align: right; border: none;\">\n",
              "                0.0507\n",
              "                \n",
              "                    &plusmn; 0.0081\n",
              "                \n",
              "            </td>\n",
              "            <td style=\"padding: 0 0.5em 0 0.5em; text-align: left; border: none;\">\n",
              "                feat_adjustable_cat\n",
              "            </td>\n",
              "        </tr>\n",
              "    \n",
              "        <tr style=\"background-color: hsl(120, 100.00%, 95.93%); border: none;\">\n",
              "            <td style=\"padding: 0 1em 0 0.5em; text-align: right; border: none;\">\n",
              "                0.0270\n",
              "                \n",
              "                    &plusmn; 0.0039\n",
              "                \n",
              "            </td>\n",
              "            <td style=\"padding: 0 0.5em 0 0.5em; text-align: left; border: none;\">\n",
              "                feat_brand_cat\n",
              "            </td>\n",
              "        </tr>\n",
              "    \n",
              "        <tr style=\"background-color: hsl(120, 100.00%, 96.60%); border: none;\">\n",
              "            <td style=\"padding: 0 1em 0 0.5em; text-align: right; border: none;\">\n",
              "                0.0209\n",
              "                \n",
              "                    &plusmn; 0.0014\n",
              "                \n",
              "            </td>\n",
              "            <td style=\"padding: 0 0.5em 0 0.5em; text-align: left; border: none;\">\n",
              "                feat_fabric content_cat\n",
              "            </td>\n",
              "        </tr>\n",
              "    \n",
              "        <tr style=\"background-color: hsl(120, 100.00%, 97.25%); border: none;\">\n",
              "            <td style=\"padding: 0 1em 0 0.5em; text-align: right; border: none;\">\n",
              "                0.0154\n",
              "                \n",
              "                    &plusmn; 0.0012\n",
              "                \n",
              "            </td>\n",
              "            <td style=\"padding: 0 0.5em 0 0.5em; text-align: left; border: none;\">\n",
              "                feat_metal type_cat\n",
              "            </td>\n",
              "        </tr>\n",
              "    \n",
              "        <tr style=\"background-color: hsl(120, 100.00%, 99.05%); border: none;\">\n",
              "            <td style=\"padding: 0 1em 0 0.5em; text-align: right; border: none;\">\n",
              "                0.0034\n",
              "                \n",
              "                    &plusmn; 0.0009\n",
              "                \n",
              "            </td>\n",
              "            <td style=\"padding: 0 0.5em 0 0.5em; text-align: left; border: none;\">\n",
              "                feat_style_cat\n",
              "            </td>\n",
              "        </tr>\n",
              "    \n",
              "        <tr style=\"background-color: hsl(120, 100.00%, 99.86%); border: none;\">\n",
              "            <td style=\"padding: 0 1em 0 0.5em; text-align: right; border: none;\">\n",
              "                0.0002\n",
              "                \n",
              "                    &plusmn; 0.0000\n",
              "                \n",
              "            </td>\n",
              "            <td style=\"padding: 0 0.5em 0 0.5em; text-align: left; border: none;\">\n",
              "                feat_heart rate monitor_cat\n",
              "            </td>\n",
              "        </tr>\n",
              "    \n",
              "    \n",
              "    </tbody>\n",
              "</table>\n",
              "    \n",
              "\n",
              "    \n",
              "\n",
              "\n",
              "    \n",
              "\n",
              "    \n",
              "\n",
              "    \n",
              "\n",
              "    \n",
              "\n",
              "    \n",
              "\n",
              "    \n",
              "\n",
              "\n",
              "\n"
            ],
            "text/plain": [
              "<IPython.core.display.HTML object>"
            ]
          },
          "metadata": {
            "tags": []
          },
          "execution_count": 112
        }
      ]
    },
    {
      "cell_type": "code",
      "metadata": {
        "id": "kP1Ixu2ApsLk",
        "colab_type": "code",
        "outputId": "f8a88d4a-ffac-4326-9f84-ade20fbeb548",
        "colab": {
          "base_uri": "https://localhost:8080/",
          "height": 221
        }
      },
      "source": [
        "df['brand'].value_counts(normalize=True)"
      ],
      "execution_count": 0,
      "outputs": [
        {
          "output_type": "execute_result",
          "data": {
            "text/plain": [
              "nike              0.097210\n",
              "puma              0.033315\n",
              "ralph lauren      0.028775\n",
              "vans              0.021116\n",
              "new balance       0.020295\n",
              "                    ...   \n",
              "desmiit           0.000055\n",
              "care apparel      0.000055\n",
              "gianvito rossi    0.000055\n",
              "salomon           0.000055\n",
              "cuteme            0.000055\n",
              "Name: brand, Length: 1732, dtype: float64"
            ]
          },
          "metadata": {
            "tags": []
          },
          "execution_count": 62
        }
      ]
    },
    {
      "cell_type": "code",
      "metadata": {
        "id": "RC1MltogqKm0",
        "colab_type": "code",
        "outputId": "8250f2d8-0b11-493e-88d9-ab2e7b5fe69d",
        "colab": {
          "base_uri": "https://localhost:8080/",
          "height": 139
        }
      },
      "source": [
        "df[ df['brand'] == 'nike'].features_parsed.sample(5).values"
      ],
      "execution_count": 0,
      "outputs": [
        {
          "output_type": "execute_result",
          "data": {
            "text/plain": [
              "array([{},\n",
              "       {'gender': 'men', 'shoe category': 'mens shoes', 'color': 'dark grey/metallic silver/chilling red', 'casual & dress shoe style': 'running shoes', 'manufacturer part number': '653596003', 'brand': 'nike', 'shoe width': 'medium (d, m)'},\n",
              "       {},\n",
              "       {'style': 'running, cross training', 'material': 'synthetic', 'country/region of manufacture': 'vietnam', 'condition': 'new with box'},\n",
              "       {'season': 'all-season', 'material': 'synthetic', 'gender': 'men', 'shoe size': '11.5', 'size': '11.5', 'color': 'green', 'manufacturer part number': '652775 303', 'brand': 'nike', 'age group': 'adult'}],\n",
              "      dtype=object)"
            ]
          },
          "metadata": {
            "tags": []
          },
          "execution_count": 69
        }
      ]
    },
    {
      "cell_type": "code",
      "metadata": {
        "id": "6Yh5KrmAsD2W",
        "colab_type": "code",
        "outputId": "654419f6-b89e-467c-ad14-293b760b9719",
        "colab": {
          "base_uri": "https://localhost:8080/",
          "height": 289
        }
      },
      "source": [
        "df['feat_age group'].value_counts()"
      ],
      "execution_count": 0,
      "outputs": [
        {
          "output_type": "execute_result",
          "data": {
            "text/plain": [
              "adult               4563\n",
              "men                  350\n",
              "child                 77\n",
              "men's                 33\n",
              "unisex                 6\n",
              "toddler                4\n",
              "infant                 4\n",
              "mens                   4\n",
              "boys'                  3\n",
              "youth                  2\n",
              "men||women             2\n",
              "women ,�� unisex       2\n",
              "women                  2\n",
              "adult ,�� teen         1\n",
              "12 up                  1\n",
              "Name: feat_age group, dtype: int64"
            ]
          },
          "metadata": {
            "tags": []
          },
          "execution_count": 76
        }
      ]
    },
    {
      "cell_type": "code",
      "metadata": {
        "id": "DzcHqZSo5Jqe",
        "colab_type": "code",
        "colab": {
          "base_uri": "https://localhost:8080/",
          "height": 34
        },
        "outputId": "884fa522-c87a-418f-e782-8fc95cebf0f1"
      },
      "source": [
        "ls matrix_one"
      ],
      "execution_count": 117,
      "outputs": [
        {
          "output_type": "stream",
          "text": [
            "day3.ipynb\n"
          ],
          "name": "stdout"
        }
      ]
    }
  ]
}